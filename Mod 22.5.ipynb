{
 "cells": [
  {
   "cell_type": "code",
   "execution_count": 177,
   "metadata": {},
   "outputs": [],
   "source": [
    "import numpy as np\n",
    "import pandas as pd\n",
    "import scipy\n",
    "import matplotlib.pyplot as plt\n",
    "import seaborn as sns\n",
    "%matplotlib inline\n",
    "import time\n",
    "from sklearn.neighbors import KNeighborsRegressor\n",
    "from scipy import stats\n",
    "from sklearn.svm import SVR\n",
    "from sklearn.model_selection import cross_val_score"
   ]
  },
  {
   "cell_type": "code",
   "execution_count": 72,
   "metadata": {},
   "outputs": [],
   "source": [
    "df = pd.read_csv('/Users/jdobrow/Desktop/Data Science/epicurious-recipes-with-rating-and-nutrition/epi_r.csv')"
   ]
  },
  {
   "cell_type": "code",
   "execution_count": 73,
   "metadata": {},
   "outputs": [
    {
     "data": {
      "text/plain": [
       "calories    4117\n",
       "protein     4162\n",
       "fat         4183\n",
       "sodium      4119\n",
       "dtype: int64"
      ]
     },
     "execution_count": 73,
     "metadata": {},
     "output_type": "execute_result"
    }
   ],
   "source": [
    "null_count=df.isnull().sum()\n",
    "null_count[null_count>0]"
   ]
  },
  {
   "cell_type": "code",
   "execution_count": 74,
   "metadata": {},
   "outputs": [],
   "source": [
    "clean_df = df.copy()"
   ]
  },
  {
   "cell_type": "code",
   "execution_count": 75,
   "metadata": {},
   "outputs": [],
   "source": [
    "null_calorie_df = clean_df[clean_df.calories.notnull()]\n",
    "notnull_calorie_df = clean_df[clean_df.calories.isnull()]\n",
    "neighbors_calories = KNeighborsRegressor(n_neighbors=3, weights='distance')\n",
    "X=null_calorie_df.drop(['title', 'calories', 'protein', 'fat', 'sodium'], 1)\n",
    "Y=null_calorie_df['calories']\n",
    "neighbors_calories.fit(X,Y)\n",
    "X_test = notnull_calorie_df.drop(['title', 'calories', 'protein', 'fat', 'sodium'], 1)"
   ]
  },
  {
   "cell_type": "code",
   "execution_count": 76,
   "metadata": {},
   "outputs": [
    {
     "name": "stderr",
     "output_type": "stream",
     "text": [
      "/anaconda3/lib/python3.7/site-packages/pandas/core/indexing.py:190: SettingWithCopyWarning: \n",
      "A value is trying to be set on a copy of a slice from a DataFrame\n",
      "\n",
      "See the caveats in the documentation: http://pandas.pydata.org/pandas-docs/stable/indexing.html#indexing-view-versus-copy\n",
      "  self._setitem_with_indexer(indexer, value)\n"
     ]
    }
   ],
   "source": [
    "calorie_nulls = neighbors_calories.predict(X_test.iloc[:])\n",
    "j = 0\n",
    "for i in range(len(clean_df)):\n",
    "    if pd.isnull(clean_df.calories[i]):\n",
    "        clean_df.calories.iloc[i] = calorie_nulls[j]\n",
    "        j += 1"
   ]
  },
  {
   "cell_type": "code",
   "execution_count": 77,
   "metadata": {},
   "outputs": [],
   "source": [
    "null_protein_df = clean_df[clean_df.protein.notnull()]\n",
    "notnull_protein_df = clean_df[clean_df.protein.isnull()]\n",
    "neighbors_protein = KNeighborsRegressor(n_neighbors=3, weights='distance')\n",
    "X=null_protein_df.drop(['title', 'calories', 'protein', 'fat', 'sodium'], 1)\n",
    "Y=null_protein_df['protein']\n",
    "neighbors_protein.fit(X,Y)\n",
    "X_test = notnull_protein_df.drop(['title', 'calories', 'protein', 'fat', 'sodium'], 1)"
   ]
  },
  {
   "cell_type": "code",
   "execution_count": 78,
   "metadata": {},
   "outputs": [],
   "source": [
    "protein_nulls = neighbors_protein.predict(X_test.iloc[:])\n",
    "j = 0\n",
    "for i in range(len(clean_df)):\n",
    "    if pd.isnull(clean_df.protein[i]):\n",
    "        clean_df.protein.iloc[i] = protein_nulls[j]\n",
    "        j += 1"
   ]
  },
  {
   "cell_type": "code",
   "execution_count": 79,
   "metadata": {},
   "outputs": [],
   "source": [
    "null_fat_df = clean_df[clean_df.fat.notnull()]\n",
    "notnull_fat_df = clean_df[clean_df.fat.isnull()]\n",
    "neighbors_fat = KNeighborsRegressor(n_neighbors=3, weights='distance')\n",
    "X=null_fat_df.drop(['title', 'calories', 'protein', 'fat', 'sodium'], 1)\n",
    "Y=null_fat_df['fat']\n",
    "neighbors_fat.fit(X,Y)\n",
    "X_test = notnull_fat_df.drop(['title', 'calories', 'protein', 'fat', 'sodium'], 1)"
   ]
  },
  {
   "cell_type": "code",
   "execution_count": 80,
   "metadata": {},
   "outputs": [],
   "source": [
    "fat_nulls = neighbors_fat.predict(X_test.iloc[:])\n",
    "j = 0\n",
    "for i in range(len(clean_df)):\n",
    "    if pd.isnull(clean_df.fat[i]):\n",
    "        clean_df.fat.iloc[i] = fat_nulls[j]\n",
    "        j += 1"
   ]
  },
  {
   "cell_type": "code",
   "execution_count": 81,
   "metadata": {},
   "outputs": [],
   "source": [
    "null_sodium_df = clean_df[clean_df.sodium.notnull()]\n",
    "notnull_sodium_df = clean_df[clean_df.sodium.isnull()]\n",
    "neighbors_sodium = KNeighborsRegressor(n_neighbors=3, weights='distance')\n",
    "X=null_sodium_df.drop(['title', 'calories', 'protein', 'fat', 'sodium'], 1)\n",
    "Y=null_sodium_df['sodium']\n",
    "neighbors_sodium.fit(X,Y)\n",
    "X_test = notnull_sodium_df.drop(['title', 'calories', 'protein', 'fat', 'sodium'], 1)"
   ]
  },
  {
   "cell_type": "code",
   "execution_count": 82,
   "metadata": {},
   "outputs": [],
   "source": [
    "sodium_nulls = neighbors_sodium.predict(X_test.iloc[:])\n",
    "j = 0\n",
    "for i in range(len(clean_df)):\n",
    "    if pd.isnull(clean_df.sodium[i]):\n",
    "        clean_df.sodium.iloc[i] = sodium_nulls[j]\n",
    "        j += 1"
   ]
  },
  {
   "cell_type": "code",
   "execution_count": 83,
   "metadata": {},
   "outputs": [],
   "source": [
    "clean_df.to_csv('/Users/jdobrow/Desktop/cleandf')"
   ]
  },
  {
   "cell_type": "code",
   "execution_count": 87,
   "metadata": {},
   "outputs": [
    {
     "data": {
      "text/html": [
       "<div>\n",
       "<style scoped>\n",
       "    .dataframe tbody tr th:only-of-type {\n",
       "        vertical-align: middle;\n",
       "    }\n",
       "\n",
       "    .dataframe tbody tr th {\n",
       "        vertical-align: top;\n",
       "    }\n",
       "\n",
       "    .dataframe thead th {\n",
       "        text-align: right;\n",
       "    }\n",
       "</style>\n",
       "<table border=\"1\" class=\"dataframe\">\n",
       "  <thead>\n",
       "    <tr style=\"text-align: right;\">\n",
       "      <th></th>\n",
       "      <th>title</th>\n",
       "      <th>rating</th>\n",
       "      <th>calories</th>\n",
       "      <th>protein</th>\n",
       "      <th>fat</th>\n",
       "      <th>sodium</th>\n",
       "      <th>#cakeweek</th>\n",
       "      <th>#wasteless</th>\n",
       "      <th>22-minute meals</th>\n",
       "      <th>3-ingredient recipes</th>\n",
       "      <th>...</th>\n",
       "      <th>yellow squash</th>\n",
       "      <th>yogurt</th>\n",
       "      <th>yonkers</th>\n",
       "      <th>yuca</th>\n",
       "      <th>zucchini</th>\n",
       "      <th>cookbooks</th>\n",
       "      <th>leftovers</th>\n",
       "      <th>snack</th>\n",
       "      <th>snack week</th>\n",
       "      <th>turkey</th>\n",
       "    </tr>\n",
       "  </thead>\n",
       "  <tbody>\n",
       "    <tr>\n",
       "      <th>0</th>\n",
       "      <td>Lentil, Apple, and Turkey Wrap</td>\n",
       "      <td>2.500</td>\n",
       "      <td>426.000000</td>\n",
       "      <td>30.000000</td>\n",
       "      <td>7.000000</td>\n",
       "      <td>559.000000</td>\n",
       "      <td>0.0</td>\n",
       "      <td>0.0</td>\n",
       "      <td>0.0</td>\n",
       "      <td>0.0</td>\n",
       "      <td>...</td>\n",
       "      <td>0.0</td>\n",
       "      <td>0.0</td>\n",
       "      <td>0.0</td>\n",
       "      <td>0.0</td>\n",
       "      <td>0.0</td>\n",
       "      <td>0.0</td>\n",
       "      <td>0.0</td>\n",
       "      <td>0.0</td>\n",
       "      <td>0.0</td>\n",
       "      <td>1.0</td>\n",
       "    </tr>\n",
       "    <tr>\n",
       "      <th>1</th>\n",
       "      <td>Boudin Blanc Terrine with Red Onion Confit</td>\n",
       "      <td>4.375</td>\n",
       "      <td>403.000000</td>\n",
       "      <td>18.000000</td>\n",
       "      <td>23.000000</td>\n",
       "      <td>1439.000000</td>\n",
       "      <td>0.0</td>\n",
       "      <td>0.0</td>\n",
       "      <td>0.0</td>\n",
       "      <td>0.0</td>\n",
       "      <td>...</td>\n",
       "      <td>0.0</td>\n",
       "      <td>0.0</td>\n",
       "      <td>0.0</td>\n",
       "      <td>0.0</td>\n",
       "      <td>0.0</td>\n",
       "      <td>0.0</td>\n",
       "      <td>0.0</td>\n",
       "      <td>0.0</td>\n",
       "      <td>0.0</td>\n",
       "      <td>0.0</td>\n",
       "    </tr>\n",
       "    <tr>\n",
       "      <th>2</th>\n",
       "      <td>Potato and Fennel Soup Hodge</td>\n",
       "      <td>3.750</td>\n",
       "      <td>165.000000</td>\n",
       "      <td>6.000000</td>\n",
       "      <td>7.000000</td>\n",
       "      <td>165.000000</td>\n",
       "      <td>0.0</td>\n",
       "      <td>0.0</td>\n",
       "      <td>0.0</td>\n",
       "      <td>0.0</td>\n",
       "      <td>...</td>\n",
       "      <td>0.0</td>\n",
       "      <td>0.0</td>\n",
       "      <td>0.0</td>\n",
       "      <td>0.0</td>\n",
       "      <td>0.0</td>\n",
       "      <td>0.0</td>\n",
       "      <td>0.0</td>\n",
       "      <td>0.0</td>\n",
       "      <td>0.0</td>\n",
       "      <td>0.0</td>\n",
       "    </tr>\n",
       "    <tr>\n",
       "      <th>3</th>\n",
       "      <td>Mahi-Mahi in Tomato Olive Sauce</td>\n",
       "      <td>5.000</td>\n",
       "      <td>461.329676</td>\n",
       "      <td>25.603248</td>\n",
       "      <td>24.353512</td>\n",
       "      <td>724.439795</td>\n",
       "      <td>0.0</td>\n",
       "      <td>0.0</td>\n",
       "      <td>0.0</td>\n",
       "      <td>0.0</td>\n",
       "      <td>...</td>\n",
       "      <td>0.0</td>\n",
       "      <td>0.0</td>\n",
       "      <td>0.0</td>\n",
       "      <td>0.0</td>\n",
       "      <td>0.0</td>\n",
       "      <td>0.0</td>\n",
       "      <td>0.0</td>\n",
       "      <td>0.0</td>\n",
       "      <td>0.0</td>\n",
       "      <td>0.0</td>\n",
       "    </tr>\n",
       "    <tr>\n",
       "      <th>4</th>\n",
       "      <td>Spinach Noodle Casserole</td>\n",
       "      <td>3.125</td>\n",
       "      <td>547.000000</td>\n",
       "      <td>20.000000</td>\n",
       "      <td>32.000000</td>\n",
       "      <td>452.000000</td>\n",
       "      <td>0.0</td>\n",
       "      <td>0.0</td>\n",
       "      <td>0.0</td>\n",
       "      <td>0.0</td>\n",
       "      <td>...</td>\n",
       "      <td>0.0</td>\n",
       "      <td>0.0</td>\n",
       "      <td>0.0</td>\n",
       "      <td>0.0</td>\n",
       "      <td>0.0</td>\n",
       "      <td>0.0</td>\n",
       "      <td>0.0</td>\n",
       "      <td>0.0</td>\n",
       "      <td>0.0</td>\n",
       "      <td>0.0</td>\n",
       "    </tr>\n",
       "  </tbody>\n",
       "</table>\n",
       "<p>5 rows × 680 columns</p>\n",
       "</div>"
      ],
      "text/plain": [
       "                                         title  rating    calories    protein  \\\n",
       "0              Lentil, Apple, and Turkey Wrap    2.500  426.000000  30.000000   \n",
       "1  Boudin Blanc Terrine with Red Onion Confit    4.375  403.000000  18.000000   \n",
       "2                Potato and Fennel Soup Hodge    3.750  165.000000   6.000000   \n",
       "3             Mahi-Mahi in Tomato Olive Sauce    5.000  461.329676  25.603248   \n",
       "4                    Spinach Noodle Casserole    3.125  547.000000  20.000000   \n",
       "\n",
       "         fat       sodium  #cakeweek  #wasteless  22-minute meals  \\\n",
       "0   7.000000   559.000000        0.0         0.0              0.0   \n",
       "1  23.000000  1439.000000        0.0         0.0              0.0   \n",
       "2   7.000000   165.000000        0.0         0.0              0.0   \n",
       "3  24.353512   724.439795        0.0         0.0              0.0   \n",
       "4  32.000000   452.000000        0.0         0.0              0.0   \n",
       "\n",
       "   3-ingredient recipes  ...  yellow squash  yogurt  yonkers  yuca  zucchini  \\\n",
       "0                   0.0  ...            0.0     0.0      0.0   0.0       0.0   \n",
       "1                   0.0  ...            0.0     0.0      0.0   0.0       0.0   \n",
       "2                   0.0  ...            0.0     0.0      0.0   0.0       0.0   \n",
       "3                   0.0  ...            0.0     0.0      0.0   0.0       0.0   \n",
       "4                   0.0  ...            0.0     0.0      0.0   0.0       0.0   \n",
       "\n",
       "   cookbooks  leftovers  snack  snack week  turkey  \n",
       "0        0.0        0.0    0.0         0.0     1.0  \n",
       "1        0.0        0.0    0.0         0.0     0.0  \n",
       "2        0.0        0.0    0.0         0.0     0.0  \n",
       "3        0.0        0.0    0.0         0.0     0.0  \n",
       "4        0.0        0.0    0.0         0.0     0.0  \n",
       "\n",
       "[5 rows x 680 columns]"
      ]
     },
     "execution_count": 87,
     "metadata": {},
     "output_type": "execute_result"
    }
   ],
   "source": [
    "clean_df.head()"
   ]
  },
  {
   "cell_type": "code",
   "execution_count": 102,
   "metadata": {},
   "outputs": [
    {
     "data": {
      "image/png": "[encoded data removed]",
      "text/plain": [
       "<Figure size 432x288 with 1 Axes>"
      ]
     },
     "metadata": {
      "needs_background": "light"
     },
     "output_type": "display_data"
    }
   ],
   "source": [
    "plt.hist(clean_df.rating, bins=30)\n",
    "plt.show()"
   ]
  },
  {
   "cell_type": "code",
   "execution_count": 110,
   "metadata": {},
   "outputs": [],
   "source": [
    "# Splitting at the median\n",
    "rating_split_1 = []\n",
    "for i in range(len(clean_df)):\n",
    "    if clean_df.rating[i] >= 4.375:\n",
    "        rating_split_1.append(1)\n",
    "    else:\n",
    "        rating_split_1.append(0)\n",
    "clean_df['rating_split_1'] = rating_split_1"
   ]
  },
  {
   "cell_type": "code",
   "execution_count": 107,
   "metadata": {},
   "outputs": [],
   "source": [
    "# Low values separated out\n",
    "rating_split_2 = []\n",
    "for i in range(len(clean_df)):\n",
    "    if clean_df.rating[i] < 2:\n",
    "        rating_split_2.append(0)\n",
    "    else:\n",
    "        rating_split_2.append(1)\n",
    "clean_df['rating_split_2'] = rating_split_2"
   ]
  },
  {
   "cell_type": "code",
   "execution_count": 109,
   "metadata": {},
   "outputs": [],
   "source": [
    "# High values separated out\n",
    "rating_split_3 = []\n",
    "for i in range(len(clean_df)):\n",
    "    if clean_df.rating[i] > 4.5:\n",
    "        rating_split_3.append(1)\n",
    "    else:\n",
    "        rating_split_3.append(0)\n",
    "clean_df['rating_split_3'] = rating_split_3"
   ]
  },
  {
   "cell_type": "code",
   "execution_count": 120,
   "metadata": {},
   "outputs": [
    {
     "ename": "ValueError",
     "evalue": "The internally computed table of expected frequencies has a zero element at (0,).",
     "output_type": "error",
     "traceback": [
      "\u001b[0;31m---------------------------------------------------------------------------\u001b[0m",
      "\u001b[0;31mValueError\u001b[0m                                Traceback (most recent call last)",
      "\u001b[0;32m<ipython-input-120-b9c3071672e4>\u001b[0m in \u001b[0;36m<module>\u001b[0;34m\u001b[0m\n\u001b[0;32m----> 1\u001b[0;31m \u001b[0mscipy\u001b[0m\u001b[0;34m.\u001b[0m\u001b[0mstats\u001b[0m\u001b[0;34m.\u001b[0m\u001b[0mchi2_contingency\u001b[0m\u001b[0;34m(\u001b[0m\u001b[0mclean_df\u001b[0m\u001b[0;34m.\u001b[0m\u001b[0mrating_split_3\u001b[0m\u001b[0;34m[\u001b[0m\u001b[0mclean_df\u001b[0m\u001b[0;34m[\u001b[0m\u001b[0;34m'yogurt'\u001b[0m\u001b[0;34m]\u001b[0m \u001b[0;34m==\u001b[0m \u001b[0;36m1\u001b[0m\u001b[0;34m]\u001b[0m\u001b[0;34m)\u001b[0m\u001b[0;34m\u001b[0m\u001b[0;34m\u001b[0m\u001b[0m\n\u001b[0m",
      "\u001b[0;32m/anaconda3/lib/python3.7/site-packages/scipy/stats/contingency.py\u001b[0m in \u001b[0;36mchi2_contingency\u001b[0;34m(observed, correction, lambda_)\u001b[0m\n\u001b[1;32m    251\u001b[0m         \u001b[0mzeropos\u001b[0m \u001b[0;34m=\u001b[0m \u001b[0mlist\u001b[0m\u001b[0;34m(\u001b[0m\u001b[0mzip\u001b[0m\u001b[0;34m(\u001b[0m\u001b[0;34m*\u001b[0m\u001b[0mnp\u001b[0m\u001b[0;34m.\u001b[0m\u001b[0mwhere\u001b[0m\u001b[0;34m(\u001b[0m\u001b[0mexpected\u001b[0m \u001b[0;34m==\u001b[0m \u001b[0;36m0\u001b[0m\u001b[0;34m)\u001b[0m\u001b[0;34m)\u001b[0m\u001b[0;34m)\u001b[0m\u001b[0;34m[\u001b[0m\u001b[0;36m0\u001b[0m\u001b[0;34m]\u001b[0m\u001b[0;34m\u001b[0m\u001b[0;34m\u001b[0m\u001b[0m\n\u001b[1;32m    252\u001b[0m         raise ValueError(\"The internally computed table of expected \"\n\u001b[0;32m--> 253\u001b[0;31m                          \"frequencies has a zero element at %s.\" % (zeropos,))\n\u001b[0m\u001b[1;32m    254\u001b[0m \u001b[0;34m\u001b[0m\u001b[0m\n\u001b[1;32m    255\u001b[0m     \u001b[0;31m# The degrees of freedom\u001b[0m\u001b[0;34m\u001b[0m\u001b[0;34m\u001b[0m\u001b[0;34m\u001b[0m\u001b[0m\n",
      "\u001b[0;31mValueError\u001b[0m: The internally computed table of expected frequencies has a zero element at (0,)."
     ]
    }
   ],
   "source": [
    "\n",
    "scipy.stats.chi2_contingency(clean_df.rating_split_1[clean_df['yogurt'] == 1])"
   ]
  },
  {
   "cell_type": "code",
   "execution_count": 123,
   "metadata": {},
   "outputs": [
    {
     "data": {
      "text/plain": [
       "528"
      ]
     },
     "execution_count": 123,
     "metadata": {},
     "output_type": "execute_result"
    }
   ],
   "source": [
    "clean_df.rating_split_1[clean_df['yogurt'] == 1]"
   ]
  },
  {
   "cell_type": "code",
   "execution_count": 151,
   "metadata": {},
   "outputs": [
    {
     "data": {
      "text/plain": [
       "[10444, 162]"
      ]
     },
     "execution_count": 151,
     "metadata": {},
     "output_type": "execute_result"
    }
   ],
   "source": [
    "array = [list(clean_df.turkey[clean_df.rating_split_1 == 1]).count(0), list(clean_df.turkey[clean_df.rating_split_1 == 0]).count(1)]\n",
    "array"
   ]
  },
  {
   "cell_type": "code",
   "execution_count": 164,
   "metadata": {},
   "outputs": [
    {
     "name": "stdout",
     "output_type": "stream",
     "text": [
      "title 0\n",
      "rating 0\n",
      "title 0\n",
      "rating 0\n",
      "rating_split_2 17928\n",
      "rating_split_1 10738\n",
      "bon appétit 9355\n",
      "peanut free 8390\n",
      "soy free 8088\n",
      "tree nut free 7044\n",
      "vegetarian 6846\n",
      "gourmet 6648\n",
      "kosher 6175\n",
      "pescatarian 6042\n",
      "quick & easy 5372\n",
      "wheat/gluten-free 4906\n",
      "bake 4413\n",
      "summer 4151\n",
      "dessert 3573\n",
      "dairy free 3206\n",
      "side 3151\n",
      "no sugar added 3132\n",
      "winter 3099\n",
      "fall 3015\n",
      "rating_split_3 2719\n",
      "dinner 2705\n",
      "sugar conscious 2466\n",
      "healthy 2351\n",
      "kidney friendly 2313\n",
      "onion 2238\n",
      "tomato 2140\n",
      "vegetable 2087\n",
      "sauté 2044\n",
      "milk/cream 1995\n",
      "fruit 1958\n",
      "vegan 1851\n"
     ]
    }
   ],
   "source": [
    "best_features = []\n",
    "for feature in clean_df.columns:\n",
    "    best_features.append(len(clean_df[clean_df[feature] == 1]))\n",
    "best_features.sort()\n",
    "for i in range(34):\n",
    "    for j in clean_df.columns:\n",
    "        if len(clean_df[clean_df[j] == 1]) == best_features[1-i]:\n",
    "            print(j, best_features[1-i])\n",
    "# This is some bad runtime code but it got the job done."
   ]
  },
  {
   "cell_type": "code",
   "execution_count": 168,
   "metadata": {},
   "outputs": [],
   "source": [
    "good_features = ['calories', 'fat', 'sodium', 'protein', 'bon appétit', 'peanut free', 'tree nut free', 'vegetarian', 'gourmet', 'kosher', 'pescatarian', \n",
    "                 'quick & easy', 'wheat/gluten-free', 'bake', 'summer', 'dessert', 'dairy free', 'side', 'no sugar added',\n",
    "                'winter', 'fall', 'dinner', 'sugar conscious', 'healthy', 'kidney friendly', 'onion', 'tomato',\n",
    "                'vegetable', 'sauté', 'milk/cream', 'fruit', 'vegan', 'rating_split_1', 'rating_split_2', 'rating_split_3']\n",
    "feature_df = clean_df[good_features].copy()"
   ]
  },
  {
   "cell_type": "code",
   "execution_count": 171,
   "metadata": {},
   "outputs": [
    {
     "data": {
      "text/html": [
       "<div>\n",
       "<style scoped>\n",
       "    .dataframe tbody tr th:only-of-type {\n",
       "        vertical-align: middle;\n",
       "    }\n",
       "\n",
       "    .dataframe tbody tr th {\n",
       "        vertical-align: top;\n",
       "    }\n",
       "\n",
       "    .dataframe thead th {\n",
       "        text-align: right;\n",
       "    }\n",
       "</style>\n",
       "<table border=\"1\" class=\"dataframe\">\n",
       "  <thead>\n",
       "    <tr style=\"text-align: right;\">\n",
       "      <th></th>\n",
       "      <th>calories</th>\n",
       "      <th>fat</th>\n",
       "      <th>sodium</th>\n",
       "      <th>protein</th>\n",
       "      <th>bon appétit</th>\n",
       "      <th>peanut free</th>\n",
       "      <th>tree nut free</th>\n",
       "      <th>vegetarian</th>\n",
       "      <th>gourmet</th>\n",
       "      <th>kosher</th>\n",
       "      <th>...</th>\n",
       "      <th>onion</th>\n",
       "      <th>tomato</th>\n",
       "      <th>vegetable</th>\n",
       "      <th>sauté</th>\n",
       "      <th>milk/cream</th>\n",
       "      <th>fruit</th>\n",
       "      <th>vegan</th>\n",
       "      <th>rating_split_1</th>\n",
       "      <th>rating_split_2</th>\n",
       "      <th>rating_split_3</th>\n",
       "    </tr>\n",
       "  </thead>\n",
       "  <tbody>\n",
       "    <tr>\n",
       "      <th>0</th>\n",
       "      <td>426.000000</td>\n",
       "      <td>7.000000</td>\n",
       "      <td>559.000000</td>\n",
       "      <td>30.000000</td>\n",
       "      <td>0.0</td>\n",
       "      <td>0.0</td>\n",
       "      <td>0.0</td>\n",
       "      <td>0.0</td>\n",
       "      <td>0.0</td>\n",
       "      <td>0.0</td>\n",
       "      <td>...</td>\n",
       "      <td>0.0</td>\n",
       "      <td>1.0</td>\n",
       "      <td>1.0</td>\n",
       "      <td>0.0</td>\n",
       "      <td>0.0</td>\n",
       "      <td>1.0</td>\n",
       "      <td>0.0</td>\n",
       "      <td>0</td>\n",
       "      <td>1</td>\n",
       "      <td>0</td>\n",
       "    </tr>\n",
       "    <tr>\n",
       "      <th>1</th>\n",
       "      <td>403.000000</td>\n",
       "      <td>23.000000</td>\n",
       "      <td>1439.000000</td>\n",
       "      <td>18.000000</td>\n",
       "      <td>1.0</td>\n",
       "      <td>0.0</td>\n",
       "      <td>0.0</td>\n",
       "      <td>0.0</td>\n",
       "      <td>0.0</td>\n",
       "      <td>0.0</td>\n",
       "      <td>...</td>\n",
       "      <td>1.0</td>\n",
       "      <td>0.0</td>\n",
       "      <td>0.0</td>\n",
       "      <td>0.0</td>\n",
       "      <td>0.0</td>\n",
       "      <td>0.0</td>\n",
       "      <td>0.0</td>\n",
       "      <td>1</td>\n",
       "      <td>1</td>\n",
       "      <td>0</td>\n",
       "    </tr>\n",
       "    <tr>\n",
       "      <th>2</th>\n",
       "      <td>165.000000</td>\n",
       "      <td>7.000000</td>\n",
       "      <td>165.000000</td>\n",
       "      <td>6.000000</td>\n",
       "      <td>0.0</td>\n",
       "      <td>0.0</td>\n",
       "      <td>0.0</td>\n",
       "      <td>0.0</td>\n",
       "      <td>1.0</td>\n",
       "      <td>0.0</td>\n",
       "      <td>...</td>\n",
       "      <td>0.0</td>\n",
       "      <td>0.0</td>\n",
       "      <td>1.0</td>\n",
       "      <td>0.0</td>\n",
       "      <td>0.0</td>\n",
       "      <td>0.0</td>\n",
       "      <td>0.0</td>\n",
       "      <td>0</td>\n",
       "      <td>1</td>\n",
       "      <td>0</td>\n",
       "    </tr>\n",
       "    <tr>\n",
       "      <th>3</th>\n",
       "      <td>461.329676</td>\n",
       "      <td>24.353512</td>\n",
       "      <td>724.439795</td>\n",
       "      <td>25.603248</td>\n",
       "      <td>1.0</td>\n",
       "      <td>1.0</td>\n",
       "      <td>1.0</td>\n",
       "      <td>0.0</td>\n",
       "      <td>0.0</td>\n",
       "      <td>1.0</td>\n",
       "      <td>...</td>\n",
       "      <td>0.0</td>\n",
       "      <td>1.0</td>\n",
       "      <td>0.0</td>\n",
       "      <td>1.0</td>\n",
       "      <td>0.0</td>\n",
       "      <td>0.0</td>\n",
       "      <td>0.0</td>\n",
       "      <td>1</td>\n",
       "      <td>1</td>\n",
       "      <td>1</td>\n",
       "    </tr>\n",
       "    <tr>\n",
       "      <th>4</th>\n",
       "      <td>547.000000</td>\n",
       "      <td>32.000000</td>\n",
       "      <td>452.000000</td>\n",
       "      <td>20.000000</td>\n",
       "      <td>1.0</td>\n",
       "      <td>0.0</td>\n",
       "      <td>0.0</td>\n",
       "      <td>1.0</td>\n",
       "      <td>0.0</td>\n",
       "      <td>0.0</td>\n",
       "      <td>...</td>\n",
       "      <td>0.0</td>\n",
       "      <td>0.0</td>\n",
       "      <td>1.0</td>\n",
       "      <td>0.0</td>\n",
       "      <td>0.0</td>\n",
       "      <td>0.0</td>\n",
       "      <td>0.0</td>\n",
       "      <td>0</td>\n",
       "      <td>1</td>\n",
       "      <td>0</td>\n",
       "    </tr>\n",
       "  </tbody>\n",
       "</table>\n",
       "<p>5 rows × 35 columns</p>\n",
       "</div>"
      ],
      "text/plain": [
       "     calories        fat       sodium    protein  bon appétit  peanut free  \\\n",
       "0  426.000000   7.000000   559.000000  30.000000          0.0          0.0   \n",
       "1  403.000000  23.000000  1439.000000  18.000000          1.0          0.0   \n",
       "2  165.000000   7.000000   165.000000   6.000000          0.0          0.0   \n",
       "3  461.329676  24.353512   724.439795  25.603248          1.0          1.0   \n",
       "4  547.000000  32.000000   452.000000  20.000000          1.0          0.0   \n",
       "\n",
       "   tree nut free  vegetarian  gourmet  kosher  ...  onion  tomato  vegetable  \\\n",
       "0            0.0         0.0      0.0     0.0  ...    0.0     1.0        1.0   \n",
       "1            0.0         0.0      0.0     0.0  ...    1.0     0.0        0.0   \n",
       "2            0.0         0.0      1.0     0.0  ...    0.0     0.0        1.0   \n",
       "3            1.0         0.0      0.0     1.0  ...    0.0     1.0        0.0   \n",
       "4            0.0         1.0      0.0     0.0  ...    0.0     0.0        1.0   \n",
       "\n",
       "   sauté  milk/cream  fruit  vegan  rating_split_1  rating_split_2  \\\n",
       "0    0.0         0.0    1.0    0.0               0               1   \n",
       "1    0.0         0.0    0.0    0.0               1               1   \n",
       "2    0.0         0.0    0.0    0.0               0               1   \n",
       "3    1.0         0.0    0.0    0.0               1               1   \n",
       "4    0.0         0.0    0.0    0.0               0               1   \n",
       "\n",
       "   rating_split_3  \n",
       "0               0  \n",
       "1               0  \n",
       "2               0  \n",
       "3               1  \n",
       "4               0  \n",
       "\n",
       "[5 rows x 35 columns]"
      ]
     },
     "execution_count": 171,
     "metadata": {},
     "output_type": "execute_result"
    }
   ],
   "source": [
    "feature_df.head()"
   ]
  },
  {
   "cell_type": "code",
   "execution_count": 185,
   "metadata": {},
   "outputs": [],
   "source": [
    "svr = SVR()\n",
    "X = feature_df.drop(['rating_split_1', 'rating_split_2', 'rating_split_3'], 1).sample(frac=0.6, replace=True, random_state=1)\n",
    "Y1 = feature_df['rating_split_1'].sample(frac=0.6, replace=True, random_state=1)\n",
    "Y2 = feature_df['rating_split_2'].sample(frac=0.6, replace=True, random_state=1)\n",
    "Y3 = feature_df['rating_split_3'].sample(frac=0.6, replace=True, random_state=1)\n"
   ]
  },
  {
   "cell_type": "code",
   "execution_count": 186,
   "metadata": {},
   "outputs": [
    {
     "data": {
      "text/plain": [
       "array([0.44028499, 0.43035252, 0.42249756, 0.42640543, 0.45876887,\n",
       "       0.45906098, 0.42411354, 0.44178006, 0.43837181, 0.4099605 ])"
      ]
     },
     "execution_count": 186,
     "metadata": {},
     "output_type": "execute_result"
    }
   ],
   "source": [
    "cross_val_score(svr1, X, Y1, cv=10)"
   ]
  },
  {
   "cell_type": "code",
   "execution_count": 182,
   "metadata": {},
   "outputs": [
    {
     "data": {
      "text/plain": [
       "array([0.14043944, 0.24671582, 0.19348154, 0.17757701, 0.23184768,\n",
       "       0.16147537, 0.28260937, 0.21125394, 0.27506171, 0.30052075])"
      ]
     },
     "execution_count": 182,
     "metadata": {},
     "output_type": "execute_result"
    }
   ],
   "source": [
    "cross_val_score(svr1, X, Y2, cv=10)"
   ]
  },
  {
   "cell_type": "code",
   "execution_count": 183,
   "metadata": {},
   "outputs": [
    {
     "data": {
      "text/plain": [
       "array([0.23740164, 0.24447607, 0.22000665, 0.20847376, 0.25514232,\n",
       "       0.26178392, 0.19725874, 0.07791663, 0.22386207, 0.2211187 ])"
      ]
     },
     "execution_count": 183,
     "metadata": {},
     "output_type": "execute_result"
    }
   ],
   "source": [
    "cross_val_score(svr1, X, Y3, cv=10)"
   ]
  },
  {
   "cell_type": "code",
   "execution_count": 184,
   "metadata": {},
   "outputs": [
    {
     "data": {
      "text/plain": [
       "0.9456656572011819"
      ]
     },
     "execution_count": 184,
     "metadata": {},
     "output_type": "execute_result"
    }
   ],
   "source": [
    "# Holy overfitting! I don't think I'm missing anything about how this model works but that's a huge difference.\n",
    "svr.fit(X,Y1)\n",
    "svr.score(X, Y1)"
   ]
  },
  {
   "cell_type": "code",
   "execution_count": null,
   "metadata": {},
   "outputs": [],
   "source": []
  }
 ],
 "metadata": {
  "kernelspec": {
   "display_name": "Python 3",
   "language": "python",
   "name": "python3"
  },
  "language_info": {
   "codemirror_mode": {
    "name": "ipython",
    "version": 3
   },
   "file_extension": ".py",
   "mimetype": "text/x-python",
   "name": "python",
   "nbconvert_exporter": "python",
   "pygments_lexer": "ipython3",
   "version": "3.7.3"
  }
 },
 "nbformat": 4,
 "nbformat_minor": 2
}
